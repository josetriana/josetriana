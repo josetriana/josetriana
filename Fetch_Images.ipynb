{
  "nbformat": 4,
  "nbformat_minor": 0,
  "metadata": {
    "colab": {
      "name": "Fetch_Images.ipynb",
      "provenance": [],
      "authorship_tag": "ABX9TyNr5SK4VHngUcrlFq4SJ+6f",
      "include_colab_link": true
    },
    "kernelspec": {
      "name": "python3",
      "display_name": "Python 3"
    },
    "language_info": {
      "name": "python"
    }
  },
  "cells": [
    {
      "cell_type": "markdown",
      "metadata": {
        "id": "view-in-github",
        "colab_type": "text"
      },
      "source": [
        "<a href=\"https://colab.research.google.com/github/josetriana/josetriana/blob/main/Fetch_Images.ipynb\" target=\"_parent\"><img src=\"https://colab.research.google.com/assets/colab-badge.svg\" alt=\"Open In Colab\"/></a>"
      ]
    },
    {
      "cell_type": "markdown",
      "source": [
        "Import Earth Engine and Authentication"
      ],
      "metadata": {
        "id": "w_zLylWNcXBr"
      }
    },
    {
      "cell_type": "code",
      "execution_count": 3,
      "metadata": {
        "colab": {
          "base_uri": "https://localhost:8080/"
        },
        "id": "JNvAAYOAcReB",
        "outputId": "83e213ff-d813-4441-c0e6-e40622000ae1"
      },
      "outputs": [
        {
          "output_type": "stream",
          "name": "stdout",
          "text": [
            "To authorize access needed by Earth Engine, open the following URL in a web browser and follow the instructions. If the web browser does not start automatically, please manually browse the URL below.\n",
            "\n",
            "    https://code.earthengine.google.com/client-auth?scopes=https%3A//www.googleapis.com/auth/earthengine%20https%3A//www.googleapis.com/auth/devstorage.full_control&request_id=2dm8cYv50cMZ6ZjP68LQevcyf-0z_l5qb0rAMfYzYLw&tc=i3CP2f13tzBph6AUNfrk4fWepyz7BadgczTNflBrIjc&cc=-weA7Aw5WMiJDaCxxIoisSUCofouXS052tXFvkN7kxY\n",
            "\n",
            "The authorization workflow will generate a code, which you should paste in the box below. \n",
            "Enter verification code: 4/1AX4XfWjDWzjMU1e1dtLOl-iErrVMTLUSCLdzugPtzC0nidpede7UxxUfK0E\n",
            "\n",
            "Successfully saved authorization token.\n"
          ]
        }
      ],
      "source": [
        "import ee\n",
        "# Trigger the authentication flow.\n",
        "ee.Authenticate()\n",
        "# Initialize the library.\n",
        "ee.Initialize()"
      ]
    }
  ]
}